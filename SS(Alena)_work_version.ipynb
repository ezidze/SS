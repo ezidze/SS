{
 "cells": [
  {
   "cell_type": "code",
   "execution_count": 11,
   "metadata": {},
   "outputs": [],
   "source": [
    "%matplotlib inline\n",
    "import matplotlib.pyplot as plt\n",
    "import numpy as np\n",
    "from numba import jit\n",
    "import timeit"
   ]
  },
  {
   "cell_type": "code",
   "execution_count": 12,
   "metadata": {},
   "outputs": [],
   "source": [
    "start = timeit.default_timer()\n",
    "M=400  \n",
    "N=530000\n",
    "delta_t=1.0e-4\n",
    "delta_m=(1.0/M)\n",
    "gamma = 5.0 / 3.0\n",
    "step = int( N / 5.0 )\n",
    "#SumUp = 0.0"
   ]
  },
  {
   "cell_type": "code",
   "execution_count": 13,
   "metadata": {},
   "outputs": [],
   "source": [
    "ro=np.array([3.0 for i in range(M+1)])\n",
    "U=np.array([0.0 for i in range(M+1)])\n",
    "P=np.array([2.0 for i in range(M+1)])\n",
    "E=np.array([1.0 for i in range(M+1)])\n",
    "V=1.0/ro\n",
    "r=np.array([0.0 for i in range(M+1)])\n",
    "\n",
    "r_temp=[0.0 for i in range(M+1)]\n",
    "U_temp=[0.0 for i in range(M+1)]\n",
    "V_temp=[1.0 / 3 for i in range(M+1)]\n",
    "ro_temp=[0.0 for i in range(M+1)]\n",
    "E_temp=[0.0 for i in range(M+1)]\n",
    "P_temp=[0.0 for i in range(M+1)]"
   ]
  },
  {
   "cell_type": "code",
   "execution_count": 14,
   "metadata": {},
   "outputs": [],
   "source": [
    "@jit\n",
    "def r_f_start(r):\n",
    "    global delta_m\n",
    "    for i in range(M):\n",
    "        r[i+1]=(r[i] ** 3 + delta_m ) ** ( 1 / 3.0 )\n",
    "    return r\n",
    "r=r_f_start(r)\n",
    "\n",
    "#print( r )\n",
    "@jit\n",
    "def u_f(U, r, P):\n",
    "    global delta_t, delta_m\n",
    "    U_new = np.zeros(M+1)\n",
    "    for i in range(M-1):\n",
    "        U_new[i + 1]=(U[i + 1]-((delta_t/delta_m)*(r[i + 1]**2)*(P[i + 1]-P[i])) )\n",
    "    U_new[M]=U[M]+((delta_t/delta_m)*(r[M]**2)*(P[M-1]))\n",
    "    return U_new\n",
    "U=u_f(U,r, P)\n",
    "\n",
    "#print( U )\n",
    "@jit\n",
    "def r_f(r,U):\n",
    "    global delta_t\n",
    "    r_new = np.zeros(M+1)\n",
    "    for i in range(M):\n",
    "        r_new[i + 1]=r[i + 1]+U[i + 1]*delta_t\n",
    "    return r_new\n",
    "r=r_f(r,U)\n",
    "\n",
    "#print( r )\n",
    "@jit\n",
    "def V_f(r_new):\n",
    "    global delta_m\n",
    "    V_new = np.zeros(M+1)\n",
    "    for i in range(M):\n",
    "        V_new[i]=((r_new[i + 1]**3)-(r_new[i]**3))/3.0/delta_m\n",
    "    return V_new\n",
    "V=V_f(r)\n",
    "\n",
    "#print( V )\n",
    "@jit\n",
    "def E_f( E, V_old, V_new ):\n",
    "    global gamma\n",
    "    E_new = np.zeros(M+1)\n",
    "    for j in range(M):\n",
    "        E_new[j]=E[j]*((V_new[j]/V_old[j])*((V_old[j]+((gamma-1.0)/2.0)*(V_old[j]-V_new[j]))/(V_new[j]-((gamma-1.0)/2.0)*(V_old[j]-V_new[j]))) )\n",
    "    return E_new\n",
    "E=E_f(E,V_temp,V)\n",
    "\n",
    "#print( E )\n",
    "@jit\n",
    "def P_f(E,V):\n",
    "    global gamma\n",
    "    P_new = np.zeros(M+1)\n",
    "    for i in range(M):\n",
    "        P_new[i]=((gamma-1.0)*E[i])/V[i]\n",
    "    return P_new\n",
    "P=P_f(E,V)\n",
    "\n",
    "#print( P )"
   ]
  },
  {
   "cell_type": "code",
   "execution_count": 15,
   "metadata": {},
   "outputs": [
    {
     "name": "stdout",
     "output_type": "stream",
     "text": [
      "Total running time: 0:0:8.\n",
      "\n"
     ]
    }
   ],
   "source": [
    "U_temp=U\n",
    "r_temp=r\n",
    "V_temp=V\n",
    "E_temp=E\n",
    "P_temp=P\n",
    "        \n",
    "for i in range(1, N ):                        \n",
    "\n",
    "    U_temp=u_f( U_temp,r_temp, P_temp )\n",
    "        \n",
    "    r_temp=r_f(r_temp, U_temp)\n",
    "    \n",
    "    V_temp=V_f(r_temp)\n",
    "   \n",
    "    E_temp=E_f(E_temp,V,V_temp)\n",
    "    \n",
    "    V=V_temp\n",
    "    \n",
    "    P_temp=P_f(E_temp,V_temp)\n",
    "    \n",
    "    #print( V_temp[-2] )\n",
    "    \n",
    "stop = timeit.default_timer()\n",
    "total_time = stop - start\n",
    "\n",
    "# output running time in a nice format.\n",
    "mins, secs = divmod(total_time, 60)\n",
    "hours, mins = divmod(mins, 60)\n",
    "\n",
    "print(\"Total running time: %d:%d:%d.\\n\"  % (hours, mins, secs))\n",
    "\n",
    "            "
   ]
  },
  {
   "cell_type": "code",
   "execution_count": 16,
   "metadata": {},
   "outputs": [
    {
     "data": {
      "image/png": "[encoded data removed]",
      "text/plain": [
       "<matplotlib.figure.Figure at 0x1f3ecdcf9e8>"
      ]
     },
     "metadata": {},
     "output_type": "display_data"
    }
   ],
   "source": [
    "plt.plot(r_temp[:-1],U_temp[:-1])\n",
    "plt.grid()\n",
    "plt.show()"
   ]
  },
  {
   "cell_type": "code",
   "execution_count": 17,
   "metadata": {},
   "outputs": [
    {
     "data": {
      "image/png": "[encoded data removed]",
      "text/plain": [
       "<matplotlib.figure.Figure at 0x1f3ece1fcc0>"
      ]
     },
     "metadata": {},
     "output_type": "display_data"
    }
   ],
   "source": [
    "plt.yscale( 'log' )\n",
    "plt.plot(r_temp[:-1],1.0 / V_temp[:-1])\n",
    "plt.grid()\n",
    "plt.show()"
   ]
  },
  {
   "cell_type": "code",
   "execution_count": 18,
   "metadata": {},
   "outputs": [
    {
     "data": {
      "image/png": "[encoded data removed]",
      "text/plain": [
       "<matplotlib.figure.Figure at 0x1f3ecc426d8>"
      ]
     },
     "metadata": {},
     "output_type": "display_data"
    }
   ],
   "source": [
    "plt.yscale( 'log' )\n",
    "plt.plot(r_temp[:-1],E_temp[:-1])\n",
    "plt.grid()\n",
    "plt.show()"
   ]
  },
  {
   "cell_type": "code",
   "execution_count": 19,
   "metadata": {},
   "outputs": [
    {
     "data": {
      "image/png": "[encoded data removed]",
      "text/plain": [
       "<matplotlib.figure.Figure at 0x1f3ecb3f208>"
      ]
     },
     "metadata": {},
     "output_type": "display_data"
    }
   ],
   "source": [
    "plt.yscale( 'log' )\n",
    "plt.plot(r_temp[:-1],P_temp[:-1])\n",
    "plt.grid()\n",
    "plt.show()"
   ]
  }
 ],
 "metadata": {
  "kernelspec": {
   "display_name": "Python 3",
   "language": "python",
   "name": "python3"
  },
  "language_info": {
   "codemirror_mode": {
    "name": "ipython",
    "version": 3
   },
   "file_extension": ".py",
   "mimetype": "text/x-python",
   "name": "python",
   "nbconvert_exporter": "python",
   "pygments_lexer": "ipython3",
   "version": "3.6.4"
  }
 },
 "nbformat": 4,
 "nbformat_minor": 2
}
